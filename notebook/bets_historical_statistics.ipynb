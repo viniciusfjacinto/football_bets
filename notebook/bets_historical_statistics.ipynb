{
 "cells": [
  {
   "attachments": {},
   "cell_type": "markdown",
   "metadata": {},
   "source": [
    "# Importando Bibliotecas e Funções"
   ]
  },
  {
   "cell_type": "code",
   "execution_count": 1,
   "metadata": {},
   "outputs": [],
   "source": [
    "#importando módulos\n",
    "import functions\n",
    "from functions import *\n",
    "\n",
    "import visualization\n",
    "from visualization import viz_pred"
   ]
  },
  {
   "cell_type": "code",
   "execution_count": 2,
   "metadata": {},
   "outputs": [],
   "source": [
    "fix_req = \"https://v3.football.api-sports.io/fixtures?ids=\""
   ]
  },
  {
   "attachments": {},
   "cell_type": "markdown",
   "metadata": {},
   "source": [
    "# 4. Banco de Estatísticas Históricas de um Campeonato"
   ]
  },
  {
   "attachments": {},
   "cell_type": "markdown",
   "metadata": {},
   "source": [
    "## 4.1 Verificar a League / ID do Campeonato\n",
    "https://dashboard.api-football.com/soccer/ids"
   ]
  },
  {
   "cell_type": "code",
   "execution_count": 3,
   "metadata": {},
   "outputs": [
    {
     "name": "stdout",
     "output_type": "stream",
     "text": [
      "[(0, 'World'), (1, 'France'), (2, 'Belgium'), (3, 'Brazil'), (4, 'England'), (5, 'Germany'), (6, 'Italy'), (7, 'Netherlands'), (8, 'Portugal'), (9, 'Spain'), (10, 'Scotland'), (11, 'Albania'), (12, 'Algeria'), (13, 'Palestine'), (14, 'Myanmar'), (15, 'Trinidad-And-Tobago'), (16, 'Ukraine'), (17, 'United-Arab-Emirates'), (18, 'Uruguay'), (19, 'Tunisia'), (20, 'Turkey'), (21, 'Egypt'), (22, 'El-Salvador'), (23, 'Estonia'), (24, 'Georgia'), (25, 'Ghana'), (26, 'Guadeloupe'), (27, 'Guatemala'), (28, 'Greece'), (29, 'Andorra'), (30, 'Argentina'), (31, 'Australia'), (32, 'Austria'), (33, 'Azerbaidjan'), (34, 'Wales'), (35, 'Venezuela'), (36, 'Oman'), (37, 'Jamaica'), (38, 'Jordan'), (39, 'Kazakhstan'), (40, 'Kuwait'), (41, 'Denmark'), (42, 'Honduras'), (43, 'Hong-Kong'), (44, 'Hungary'), (45, 'Lebanon'), (46, 'Luxembourg'), (47, 'Qatar'), (48, 'Surinam'), (49, 'Tajikistan'), (50, 'Barbados'), (51, 'Uganda'), (52, 'Mali'), (53, 'USA'), (54, 'Uzbekistan'), (55, 'Thailand'), (56, 'Faroe-Islands'), (57, 'Finland'), (58, 'Ecuador'), (59, 'Angola'), (60, 'Armenia'), (61, 'Belarus'), (62, 'Zambia'), (63, 'Vietnam'), (64, 'Japan'), (65, 'Kenya'), (66, 'Haiti'), (67, 'Latvia'), (68, 'Lithuania'), (69, 'Singapore'), (70, 'Aruba'), (71, 'Fiji'), (72, 'Guinea'), (73, 'Chile'), (74, 'Czech-Republic'), (75, 'Ethiopia'), (76, 'Tanzania'), (77, 'Romania'), (78, 'Sweden'), (79, 'Kyrgyzstan'), (80, 'Bosnia'), (81, 'South-Korea'), (82, 'Iran'), (83, 'Israel'), (84, 'Slovakia'), (85, 'Macedonia'), (86, 'Ivory-Coast'), (87, 'Malta'), (88, 'Moldova'), (89, 'Nicaragua'), (90, 'Nigeria'), (91, 'Zimbabwe'), (92, 'Sudan'), (93, 'Senegal'), (94, 'San-Marino'), (95, 'Cameroon'), (96, 'Cambodia'), (97, 'Bahrain'), (98, 'Benin'), (99, 'Bermuda'), (100, 'Bhutan'), (101, 'Botswana'), (102, 'Bangladesh'), (103, 'Norway'), (104, 'Costa-Rica'), (105, 'Iceland'), (106, 'China'), (107, 'Morocco'), (108, 'Switzerland'), (109, 'Croatia'), (110, 'Russia'), (111, 'Colombia'), (112, 'Paraguay'), (113, 'Bulgaria'), (114, 'Mexico'), (115, 'Canada'), (116, 'Malaysia'), (117, 'New-Zealand'), (118, 'Peru'), (119, 'Serbia'), (120, 'South-Africa'), (121, 'Saudi-Arabia'), (122, 'Northern-Ireland'), (123, 'Syria'), (124, 'Libya'), (125, 'Chinese-Taipei'), (126, 'Indonesia'), (127, 'Panama'), (128, 'Poland'), (129, 'Cyprus'), (130, 'India'), (131, 'Montenegro'), (132, 'Bolivia'), (133, 'Slovenia'), (134, 'Malawi'), (135, 'Rwanda'), (136, 'Namibia'), (137, 'Belize'), (138, 'Burkina-Faso'), (139, 'Congo-DR'), (140, 'Ireland'), (141, 'Burundi'), (142, 'Curacao'), (143, 'Kosovo'), (144, 'Nepal'), (145, 'Turkmenistan'), (146, 'Iraq'), (147, 'Gibraltar'), (148, 'Dominican-Republic'), (149, 'Liberia'), (150, 'Liechtenstein'), (151, 'Mauritania'), (152, 'Mauritius'), (153, 'Mongolia'), (154, 'Philippines'), (155, 'Congo'), (156, 'Gambia'), (157, 'Eswatini'), (158, 'Laos'), (159, 'Pakistan'), (160, 'Crimea'), (161, 'Somalia'), (162, 'Maldives'), (163, 'Lesotho'), (164, 'Gabon'), (165, 'Cuba'), (166, 'Macao')]\n"
     ]
    }
   ],
   "source": [
    "#cria um dataframe com todas as ligas disponiveis\n",
    "lg = 'https://v3.football.api-sports.io/leagues'\n",
    "lg = requests.request(\"GET\", lg, headers=headers, data=payload)\n",
    "lg = lg.json()\n",
    "lg = json_normalize(lg['response'])\n",
    "lg = lg[['league.id','league.name','league.type','country.name']]\n",
    "\n",
    "#listas países\n",
    "print(list(enumerate(lg['country.name'].unique())))\n",
    "\n",
    "#pesquisar país\n",
    "input_country_name = int(input())\n",
    "country = lg['country.name'].unique()[input_country_name]\n",
    "\n",
    "lg_country =  lg[lg['country.name']==country]"
   ]
  },
  {
   "cell_type": "code",
   "execution_count": 4,
   "metadata": {},
   "outputs": [
    {
     "name": "stdout",
     "output_type": "stream",
     "text": [
      "[(0, 'Serie A'), (1, 'Serie D'), (2, 'Serie B'), (3, 'Serie C'), (4, 'Acreano'), (5, 'Amapaense'), (6, 'Amazonense'), (7, 'Copa Do Brasil'), (8, 'Brasileiro Women'), (9, 'Alagoano'), (10, 'Baiano - 2'), (11, 'Cearense - 2'), (12, 'Carioca - 2'), (13, 'Baiano - 1'), (14, 'Paraibano'), (15, 'Catarinense - 1'), (16, 'Paulista - A3'), (17, 'Paranaense - 1'), (18, 'Roraimense'), (19, 'Maranhense'), (20, 'Cearense - 1'), (21, 'Brasiliense'), (22, 'Capixaba'), (23, 'Copa do Nordeste'), (24, 'Paranaense - 2'), (25, 'Rondoniense'), (26, 'Potiguar'), (27, 'Copa do Brasil U20'), (28, 'São Paulo Youth Cup'), (29, 'Mineiro - 2'), (30, 'Piauiense'), (31, 'Pernambucano - 1'), (32, 'Sul-Matogrossense'), (33, 'Carioca - 1'), (34, 'Sergipano'), (35, 'Paraense'), (36, 'Goiano - 1'), (37, 'Mineiro - 1'), (38, 'Matogrossense'), (39, 'Tocantinense'), (40, 'Supercopa do Brasil'), (41, 'Paulista - A1'), (42, 'Paulista - A2'), (43, 'Gaúcho - 1'), (44, 'Gaúcho - 2'), (45, 'Copa Verde'), (46, 'CBF Brasileiro U20'), (47, 'Brasileiro de Aspirantes'), (48, 'Copa Paulista'), (49, 'Carioca A2'), (50, 'Catarinense - 2')]\n"
     ]
    }
   ],
   "source": [
    "#pesquisar league\n",
    "print(list(enumerate(lg_country['league.name'].unique())))\n",
    "input_league_number = int(input())\n",
    "\n",
    "league = lg_country['league.name'].unique()[input_league_number]\n",
    "lg_country_league = lg_country[lg_country['league.name']==league]"
   ]
  },
  {
   "cell_type": "code",
   "execution_count": 5,
   "metadata": {},
   "outputs": [],
   "source": [
    "#seleciona a league e o range desejado\n",
    "league = lg_country_league['league.id'].iloc[0]\n",
    "season = range(2021,2024,1)\n"
   ]
  },
  {
   "attachments": {},
   "cell_type": "markdown",
   "metadata": {},
   "source": [
    "## 4.2 Dataframe com todas as partidas da League"
   ]
  },
  {
   "cell_type": "code",
   "execution_count": 6,
   "metadata": {},
   "outputs": [],
   "source": [
    "#realiza a requisição para obter as partidas\n",
    "fix_as = []\n",
    "\n",
    "for i in season:\n",
    "\n",
    "    fix = 'https://v3.football.api-sports.io/fixtures?league='+str(league)+'&season='+str(i)\n",
    "    fix = requests.request(\"GET\", fix, headers=headers, data=payload)\n",
    "    fix = fix.json()\n",
    "    fix = fix['response']\n",
    "    fix = json_normalize(fix)\n",
    "    fix_as.append(fix)\n",
    "    \n",
    "fix_as = pd.concat(fix_as)"
   ]
  },
  {
   "cell_type": "code",
   "execution_count": 7,
   "metadata": {},
   "outputs": [
    {
     "data": {
      "text/plain": [
       "57"
      ]
     },
     "execution_count": 7,
     "metadata": {},
     "output_type": "execute_result"
    }
   ],
   "source": [
    "#cria uma lista dos ids das partidas\n",
    "list_complete = fix_as['fixture.id'].to_list()\n",
    "\n",
    "#agrupa essa lista em grupos de 20 e coloca no formato 'id1-id2-id3-...-id20',\n",
    "#para facilitar e requisitar 20 partidas de uma vez\n",
    "#a documentacao permite um maximo de 20\n",
    "chunks = [list_complete[i:i+20] for i in range(0, len(list_complete), 20)]\n",
    "chk = []\n",
    "for chunk in chunks:\n",
    "    chk.append('-'.join(map(str, chunk)))\n",
    "\n",
    "#confere o tamanho\n",
    "len(chk)"
   ]
  },
  {
   "cell_type": "code",
   "execution_count": 8,
   "metadata": {},
   "outputs": [],
   "source": [
    "#faz a requisicao para as infos detalhadas das partidas\n",
    "league_matches = pd.concat([req_padrao(fix_req,i) for i in chk])"
   ]
  },
  {
   "cell_type": "code",
   "execution_count": 9,
   "metadata": {},
   "outputs": [],
   "source": [
    "#ordena de acordo com a data\n",
    "league_matches = league_matches.sort_values(by = 'fixture.date')"
   ]
  },
  {
   "cell_type": "code",
   "execution_count": 10,
   "metadata": {},
   "outputs": [
    {
     "data": {
      "text/plain": [
       "fixture.status.long\n",
       "Halftime                1\n",
       "Match Finished        810\n",
       "Not Started            47\n",
       "Time to be defined    282\n",
       "dtype: int64"
      ]
     },
     "execution_count": 10,
     "metadata": {},
     "output_type": "execute_result"
    }
   ],
   "source": [
    "#confere quantas ja ocorreram e quantas irao ocorrer\n",
    "league_matches.groupby('fixture.status.long').size()"
   ]
  },
  {
   "cell_type": "code",
   "execution_count": 11,
   "metadata": {},
   "outputs": [],
   "source": [
    "#aplica a funcao transform fixture para abrir as colunas statistics, players e lineups\n",
    "lm = transform_fixture(league_matches)"
   ]
  },
  {
   "cell_type": "code",
   "execution_count": 13,
   "metadata": {},
   "outputs": [],
   "source": [
    "#salva o historico de partidas num csv com o nome da liga e pais\n",
    "nome_liga = league_matches['league.name'].unique().astype(str)[0].lower().replace(' ','')\n",
    "nome_pais = league_matches['league.country'].unique().astype(str)[0].lower().replace(' ','')\n",
    "league_matches.to_csv(f'C:\\\\Users\\\\...\\\\{nome_liga}_{nome_pais}.csv', index = True)"
   ]
  },
  {
   "cell_type": "code",
   "execution_count": 14,
   "metadata": {},
   "outputs": [],
   "source": [
    "#dobra o tamanho dataframe das partidas, dividindo os jogos em 1 linha por time\n",
    "\n",
    "#time home\n",
    "league_matches1 = league_matches.copy()\n",
    "league_matches1['team.id'] = league_matches1['teams.home.id']\n",
    "\n",
    "#time away\n",
    "league_matches2 = league_matches.copy()\n",
    "league_matches2['team.id'] = league_matches2['teams.away.id']\n",
    "\n",
    "#uniao de ambos\n",
    "league_matches_c = pd.concat([league_matches1,league_matches2]).sort_values(by = 'fixture.date')"
   ]
  },
  {
   "cell_type": "code",
   "execution_count": 15,
   "metadata": {},
   "outputs": [],
   "source": [
    "#faz um merge da base de partidas com as estatisticas\n",
    "matches_complete = league_matches_c.merge(lm[3], on=['fixture.id', 'team.id'], how='left').merge(\n",
    "    lm[2], on=['fixture.id', 'team.id', 'team.name'],\n",
    "    how='left').merge(lm[1],\n",
    "                      on=['fixture.id', 'team.id', 'team.name','team.logo'],\n",
    "                      how='left')"
   ]
  },
  {
   "cell_type": "code",
   "execution_count": 16,
   "metadata": {},
   "outputs": [
    {
     "data": {
      "text/html": [
       "<div>\n",
       "<style scoped>\n",
       "    .dataframe tbody tr th:only-of-type {\n",
       "        vertical-align: middle;\n",
       "    }\n",
       "\n",
       "    .dataframe tbody tr th {\n",
       "        vertical-align: top;\n",
       "    }\n",
       "\n",
       "    .dataframe thead th {\n",
       "        text-align: right;\n",
       "    }\n",
       "</style>\n",
       "<table border=\"1\" class=\"dataframe\">\n",
       "  <thead>\n",
       "    <tr style=\"text-align: right;\">\n",
       "      <th></th>\n",
       "      <th>fixture.id</th>\n",
       "      <th>fixture.referee</th>\n",
       "      <th>fixture.timezone</th>\n",
       "      <th>fixture.date</th>\n",
       "      <th>fixture.timestamp</th>\n",
       "      <th>fixture.periods.first</th>\n",
       "      <th>fixture.periods.second</th>\n",
       "      <th>fixture.venue.id</th>\n",
       "      <th>fixture.venue.name</th>\n",
       "      <th>fixture.venue.city</th>\n",
       "      <th>...</th>\n",
       "      <th>substitutes</th>\n",
       "      <th>team.colors.player.primary</th>\n",
       "      <th>team.colors.player.number</th>\n",
       "      <th>team.colors.player.border</th>\n",
       "      <th>team.colors.goalkeeper.primary</th>\n",
       "      <th>team.colors.goalkeeper.number</th>\n",
       "      <th>team.colors.goalkeeper.border</th>\n",
       "      <th>coach.id</th>\n",
       "      <th>coach.name</th>\n",
       "      <th>coach.photo</th>\n",
       "    </tr>\n",
       "  </thead>\n",
       "  <tbody>\n",
       "    <tr>\n",
       "      <th>1617</th>\n",
       "      <td>1005690</td>\n",
       "      <td>Anderson Daronco, Brazil</td>\n",
       "      <td>UTC</td>\n",
       "      <td>2023-05-11T22:30:00+00:00</td>\n",
       "      <td>1683844200</td>\n",
       "      <td>1683844200.0</td>\n",
       "      <td>1683847800.0</td>\n",
       "      <td>218.0</td>\n",
       "      <td>Estádio Nilton Santos</td>\n",
       "      <td>Rio de Janeiro</td>\n",
       "      <td>...</td>\n",
       "      <td>NaN</td>\n",
       "      <td>NaN</td>\n",
       "      <td>NaN</td>\n",
       "      <td>NaN</td>\n",
       "      <td>NaN</td>\n",
       "      <td>NaN</td>\n",
       "      <td>NaN</td>\n",
       "      <td>NaN</td>\n",
       "      <td>NaN</td>\n",
       "      <td>NaN</td>\n",
       "    </tr>\n",
       "    <tr>\n",
       "      <th>1618</th>\n",
       "      <td>1005697</td>\n",
       "      <td>Paulo Cesar Zanovelli da Silva, Brazil</td>\n",
       "      <td>UTC</td>\n",
       "      <td>2023-05-11T23:00:00+00:00</td>\n",
       "      <td>1683846000</td>\n",
       "      <td>1683846000.0</td>\n",
       "      <td>1683849600.0</td>\n",
       "      <td>225.0</td>\n",
       "      <td>Estádio Governador Plácido Aderaldo Castelo</td>\n",
       "      <td>Fortaleza, Ceará</td>\n",
       "      <td>...</td>\n",
       "      <td>[{'player': {'id': 80166, 'name': 'Thiago Galh...</td>\n",
       "      <td>003f7d</td>\n",
       "      <td>ffffff</td>\n",
       "      <td>003f7d</td>\n",
       "      <td>000099</td>\n",
       "      <td>ffcc00</td>\n",
       "      <td>000099</td>\n",
       "      <td>852.0</td>\n",
       "      <td>J. Vojvoda</td>\n",
       "      <td>https://media-3.api-sports.io/football/coachs/...</td>\n",
       "    </tr>\n",
       "    <tr>\n",
       "      <th>1619</th>\n",
       "      <td>1005697</td>\n",
       "      <td>Paulo Cesar Zanovelli da Silva, Brazil</td>\n",
       "      <td>UTC</td>\n",
       "      <td>2023-05-11T23:00:00+00:00</td>\n",
       "      <td>1683846000</td>\n",
       "      <td>1683846000.0</td>\n",
       "      <td>1683849600.0</td>\n",
       "      <td>225.0</td>\n",
       "      <td>Estádio Governador Plácido Aderaldo Castelo</td>\n",
       "      <td>Fortaleza, Ceará</td>\n",
       "      <td>...</td>\n",
       "      <td>[{'player': {'id': 51580, 'name': 'Gabriel Nev...</td>\n",
       "      <td>ffffff</td>\n",
       "      <td>860f23</td>\n",
       "      <td>ffffff</td>\n",
       "      <td>ff5f1e</td>\n",
       "      <td>ffffff</td>\n",
       "      <td>ff5f1e</td>\n",
       "      <td>3059.0</td>\n",
       "      <td>Dorival Júnior</td>\n",
       "      <td>https://media-2.api-sports.io/football/coachs/...</td>\n",
       "    </tr>\n",
       "    <tr>\n",
       "      <th>1620</th>\n",
       "      <td>1005707</td>\n",
       "      <td>Paulo Cesar Zanovelli da Silva, Brazil</td>\n",
       "      <td>UTC</td>\n",
       "      <td>2023-05-13T19:00:00+00:00</td>\n",
       "      <td>1684004400</td>\n",
       "      <td>1684004400.0</td>\n",
       "      <td>NaN</td>\n",
       "      <td>216.0</td>\n",
       "      <td>Arena Fonte Nova</td>\n",
       "      <td>Salvador, Bahia</td>\n",
       "      <td>...</td>\n",
       "      <td>NaN</td>\n",
       "      <td>NaN</td>\n",
       "      <td>NaN</td>\n",
       "      <td>NaN</td>\n",
       "      <td>NaN</td>\n",
       "      <td>NaN</td>\n",
       "      <td>NaN</td>\n",
       "      <td>NaN</td>\n",
       "      <td>NaN</td>\n",
       "      <td>NaN</td>\n",
       "    </tr>\n",
       "    <tr>\n",
       "      <th>1621</th>\n",
       "      <td>1005707</td>\n",
       "      <td>Paulo Cesar Zanovelli da Silva, Brazil</td>\n",
       "      <td>UTC</td>\n",
       "      <td>2023-05-13T19:00:00+00:00</td>\n",
       "      <td>1684004400</td>\n",
       "      <td>1684004400.0</td>\n",
       "      <td>NaN</td>\n",
       "      <td>216.0</td>\n",
       "      <td>Arena Fonte Nova</td>\n",
       "      <td>Salvador, Bahia</td>\n",
       "      <td>...</td>\n",
       "      <td>NaN</td>\n",
       "      <td>NaN</td>\n",
       "      <td>NaN</td>\n",
       "      <td>NaN</td>\n",
       "      <td>NaN</td>\n",
       "      <td>NaN</td>\n",
       "      <td>NaN</td>\n",
       "      <td>NaN</td>\n",
       "      <td>NaN</td>\n",
       "      <td>NaN</td>\n",
       "    </tr>\n",
       "  </tbody>\n",
       "</table>\n",
       "<p>5 rows × 101 columns</p>\n",
       "</div>"
      ],
      "text/plain": [
       "      fixture.id                         fixture.referee fixture.timezone  \\\n",
       "1617     1005690                Anderson Daronco, Brazil              UTC   \n",
       "1618     1005697  Paulo Cesar Zanovelli da Silva, Brazil              UTC   \n",
       "1619     1005697  Paulo Cesar Zanovelli da Silva, Brazil              UTC   \n",
       "1620     1005707  Paulo Cesar Zanovelli da Silva, Brazil              UTC   \n",
       "1621     1005707  Paulo Cesar Zanovelli da Silva, Brazil              UTC   \n",
       "\n",
       "                   fixture.date  fixture.timestamp fixture.periods.first  \\\n",
       "1617  2023-05-11T22:30:00+00:00         1683844200          1683844200.0   \n",
       "1618  2023-05-11T23:00:00+00:00         1683846000          1683846000.0   \n",
       "1619  2023-05-11T23:00:00+00:00         1683846000          1683846000.0   \n",
       "1620  2023-05-13T19:00:00+00:00         1684004400          1684004400.0   \n",
       "1621  2023-05-13T19:00:00+00:00         1684004400          1684004400.0   \n",
       "\n",
       "     fixture.periods.second fixture.venue.id  \\\n",
       "1617           1683847800.0            218.0   \n",
       "1618           1683849600.0            225.0   \n",
       "1619           1683849600.0            225.0   \n",
       "1620                    NaN            216.0   \n",
       "1621                    NaN            216.0   \n",
       "\n",
       "                               fixture.venue.name fixture.venue.city  ...  \\\n",
       "1617                        Estádio Nilton Santos     Rio de Janeiro  ...   \n",
       "1618  Estádio Governador Plácido Aderaldo Castelo   Fortaleza, Ceará  ...   \n",
       "1619  Estádio Governador Plácido Aderaldo Castelo   Fortaleza, Ceará  ...   \n",
       "1620                             Arena Fonte Nova    Salvador, Bahia  ...   \n",
       "1621                             Arena Fonte Nova    Salvador, Bahia  ...   \n",
       "\n",
       "                                            substitutes  \\\n",
       "1617                                                NaN   \n",
       "1618  [{'player': {'id': 80166, 'name': 'Thiago Galh...   \n",
       "1619  [{'player': {'id': 51580, 'name': 'Gabriel Nev...   \n",
       "1620                                                NaN   \n",
       "1621                                                NaN   \n",
       "\n",
       "     team.colors.player.primary team.colors.player.number  \\\n",
       "1617                        NaN                       NaN   \n",
       "1618                     003f7d                    ffffff   \n",
       "1619                     ffffff                    860f23   \n",
       "1620                        NaN                       NaN   \n",
       "1621                        NaN                       NaN   \n",
       "\n",
       "      team.colors.player.border team.colors.goalkeeper.primary  \\\n",
       "1617                        NaN                            NaN   \n",
       "1618                     003f7d                         000099   \n",
       "1619                     ffffff                         ff5f1e   \n",
       "1620                        NaN                            NaN   \n",
       "1621                        NaN                            NaN   \n",
       "\n",
       "     team.colors.goalkeeper.number team.colors.goalkeeper.border coach.id  \\\n",
       "1617                           NaN                           NaN      NaN   \n",
       "1618                        ffcc00                        000099    852.0   \n",
       "1619                        ffffff                        ff5f1e   3059.0   \n",
       "1620                           NaN                           NaN      NaN   \n",
       "1621                           NaN                           NaN      NaN   \n",
       "\n",
       "          coach.name                                        coach.photo  \n",
       "1617             NaN                                                NaN  \n",
       "1618      J. Vojvoda  https://media-3.api-sports.io/football/coachs/...  \n",
       "1619  Dorival Júnior  https://media-2.api-sports.io/football/coachs/...  \n",
       "1620             NaN                                                NaN  \n",
       "1621             NaN                                                NaN  \n",
       "\n",
       "[5 rows x 101 columns]"
      ]
     },
     "execution_count": 16,
     "metadata": {},
     "output_type": "execute_result"
    }
   ],
   "source": [
    "#visualiza as partidas que ja ocorreram\n",
    "matches_complete[(matches_complete['fixture.status.short'] != 'NS')\n",
    "                 & (matches_complete['fixture.status.short'] != 'TBD') &\n",
    "                 (matches_complete['fixture.status.short'] !='PST')].iloc[:, 4:].tail()"
   ]
  },
  {
   "cell_type": "code",
   "execution_count": 17,
   "metadata": {},
   "outputs": [
    {
     "name": "stdout",
     "output_type": "stream",
     "text": [
      "(1622, 101)\n",
      "(1622, 101)\n"
     ]
    }
   ],
   "source": [
    "#nomeia o dataframe filtrado\n",
    "mc = matches_complete[(matches_complete['fixture.status.short'] != 'NS')\n",
    "                 & (matches_complete['fixture.status.short'] != 'TBD') &\n",
    "                 (matches_complete['fixture.status.short'] !='PST')].iloc[:, 4:]\n",
    "\n",
    "#verifica linhas onde Posse de Bola e null. \n",
    "#nesses casos, deve-se considerar que a API nao possui todas as informacoes daquela partida\n",
    "print(mc.shape)\n",
    "\n",
    "print(mc[~mc['Ball Possession'].isnull()].shape)"
   ]
  },
  {
   "cell_type": "markdown",
   "metadata": {},
   "source": [
    "## 4.3 Previsões da API - Verifica os acertos feito pela API"
   ]
  },
  {
   "cell_type": "code",
   "execution_count": 27,
   "metadata": {},
   "outputs": [],
   "source": [
    "#faz a requisicao das previsoes por partida\n",
    "import time\n",
    "\n",
    "df_pred = []\n",
    "\n",
    "for i in list(league_matches['fixture.id']):\n",
    "\n",
    "#adiciona um try except para caso o limite de requisicoes seja ultrapassado, para evitar um break no processo\n",
    "    try:\n",
    "        fixrange2 = 'https://v3.football.api-sports.io/predictions?fixture='+ str(i)\n",
    "        fixrange_r2 = requests.request(\"GET\", fixrange2, headers=headers, data=payload)\n",
    "        fixrange_r2 = fixrange_r2.json()\n",
    "        fixrange_r2\n",
    "\n",
    "        df_predx = (json_normalize(fixrange_r2['response']))\n",
    "        df_predx['fixture.id'] = i\n",
    "        df_pred.append(df_predx)\n",
    "    \n",
    "    except SSLError as e:\n",
    "        fixrange2 = 'https://v3.football.api-sports.io/predictions?fixture='+ str(i)\n",
    "        fixrange_r2 = requests.request(\"GET\", fixrange2, headers=headers, data=payload)\n",
    "        fixrange_r2 = fixrange_r2.json()\n",
    "        fixrange_r2\n",
    "\n",
    "        df_predx = (json_normalize(fixrange_r2['response']))\n",
    "        df_predx['fixture.id'] = i\n",
    "        df_pred.append(df_predx)\n",
    "\n",
    "#concatena os resultados\n",
    "df_pred = pd.concat(df_pred)"
   ]
  },
  {
   "cell_type": "code",
   "execution_count": 20,
   "metadata": {},
   "outputs": [],
   "source": [
    "#salva as previsoes de partidas num csv com o nome da liga e pais\n",
    "\n",
    "nome_liga = league_matches['league.name'].unique().astype(str)[0].lower().replace(' ','')\n",
    "nome_pais = league_matches['league.country'].unique().astype(str)[0].lower().replace(' ','')\n",
    "df_pred.to_csv(f'C:\\\\Users\\\\...\\\\pred_{nome_liga}_{nome_pais}.csv', index = False)"
   ]
  },
  {
   "cell_type": "code",
   "execution_count": 21,
   "metadata": {},
   "outputs": [],
   "source": [
    "#cria a coluna winner e classifica os resultados como 1, 2 e X para se assemelhar aos Bets\n",
    "lg_matches = league_matches.copy()\n",
    "\n",
    "lg_matches['winner'] = np.where(\n",
    "    lg_matches['score.fulltime.home'] >\n",
    "    lg_matches['score.fulltime.away'], '1',\n",
    "    np.where(\n",
    "        lg_matches['score.fulltime.home'] <\n",
    "        lg_matches['score.fulltime.away'], '2',\n",
    "        np.where(\n",
    "            lg_matches['score.fulltime.home'] ==\\\n",
    "            lg_matches['score.fulltime.away'], 'X', 'NoRes')))\n",
    "\n",
    "#remove aquelas partidas que nao ocorreram\n",
    "lg_matches = lg_matches[lg_matches['winner']!='NoRes']"
   ]
  },
  {
   "cell_type": "code",
   "execution_count": 22,
   "metadata": {},
   "outputs": [],
   "source": [
    "#verifica o acerto das previsoes da API para o campeonato em questao\n",
    "\n",
    "#filtra as variáveis\n",
    "pred = df_pred[['fixture.id','predictions.winner.comment','predictions.winner.name','predictions.advice']]\n",
    "\n",
    "#drop NO PREDS AVAILABLE\n",
    "pred = pred[df_pred['predictions.advice']!='No predictions available']\n",
    "\n",
    "#dividir em várias colunas aquelas tips que possuem 'AND'\n",
    "pred[['tip1','tip2']] = pred['predictions.advice'].str.split(' and ', expand = True)\n",
    "pred[['1','tip1']] = pred['tip1'].str.split(':',expand = True)\n",
    "pred = pred.drop(columns = '1')\n",
    "\n",
    "#contar quantas são double chance, combo double chance, combo winner e winner\n",
    "pred[['tip_type','suggestion']] = pred['predictions.advice'].str.split(':', expand = True)\n",
    "pred = pred.drop(columns = 'suggestion')\n",
    "\n",
    "group_advices = pred.groupby('tip_type').size() / len(pred) * 100\n",
    "\n",
    "#transformar os times home e away em 1 ou 2 para padronização da leitura das tips\n",
    "pred = pred.merge(lg_matches[['fixture.id','teams.home.name','teams.away.name']])\n",
    "pred['cod'] = pred['predictions.winner.name'].eq(pred['teams.home.name']).apply(lambda x: 1 if x else 2)\n",
    "\n",
    "#adicionar uma coluna com valores 'X' para quando a tip for de dupla chance\n",
    "#junta as colunas para criar os resultados do tipo: 1, 2, 1X, 12, 2X\n",
    "pred['dupla_chance'] = pred['tip1'].apply(lambda x: 'X' if 'draw' in x else np.nan)\n",
    "pred['prediction'] = pred['cod'].astype(str) + pred['dupla_chance']\n",
    "pred['prediction'] = pred['prediction'].fillna(pred['cod'])\n",
    "\n",
    "pred = pred.merge(lg_matches[['fixture.id','winner','score.fulltime.home','score.fulltime.away']])\n",
    "pred['ttgols'] = pred['score.fulltime.home'] + pred['score.fulltime.away']\n",
    "\n",
    "#realiza um tratamento nas variáveis que serão comparadas\n",
    "pred['cod'] = pred['cod'].astype(str)\n",
    "pred['dupla_chance'] = pred['dupla_chance'].fillna('-') \n",
    "\n",
    "#cria a coluna para validar se as previsões foram corretas\n",
    "pred['winner_correct_prediction'] = 'NO'\n",
    "\n",
    "def check_prediction(row):\n",
    "    if row['winner'] == row['cod'] or row['winner'] == row['dupla_chance']:\n",
    "        return 'YES'\n",
    "    else:\n",
    "        return 'NO'\n",
    "pred['winner_correct_prediction'] = pred.apply(check_prediction, axis=1)\n",
    "\n",
    "#analise se as apostas do tipo 'Combo' também foram corretas. Para isso, divide as tips do tipo over/under em colunas separadas\n",
    "pred[['a','b']] = pred['tip2'].str.split(' ', expand = True)\n"
   ]
  },
  {
   "cell_type": "code",
   "execution_count": 32,
   "metadata": {},
   "outputs": [],
   "source": [
    "#verifica o acerto das previsoes da API para o campeonato em questao\n",
    "\n",
    "#filtra as variáveis\n",
    "pred = df_pred[['fixture.id','predictions.winner.comment','predictions.winner.name','predictions.advice']]\n",
    "\n",
    "#drop NO PREDS AVAILABLE\n",
    "pred = pred[df_pred['predictions.advice']!='No predictions available']\n",
    "\n",
    "#dividir em várias colunas aquelas tips que possuem 'AND'\n",
    "pred[['tip1','tip2']] = pred['predictions.advice'].str.split(' and ', expand = True)\n",
    "pred[['1','tip1']] = pred['tip1'].str.split(':',expand = True)\n",
    "pred = pred.drop(columns = '1')\n",
    "\n",
    "#contar quantas são double chance, combo double chance, combo winner e winner\n",
    "pred[['tip_type','suggestion']] = pred['predictions.advice'].str.split(':', expand = True)\n",
    "pred = pred.drop(columns = 'suggestion')\n",
    "\n",
    "group_advices = pred.groupby('tip_type').size() / len(pred) * 100\n",
    "\n",
    "#transformar os times home e away em 1 ou 2 para padronização da leitura das tips\n",
    "pred = pred.merge(lg_matches[['fixture.id','teams.home.name','teams.away.name']])\n",
    "pred['cod'] = pred['predictions.winner.name'].eq(pred['teams.home.name']).apply(lambda x: 1 if x else 2)\n",
    "\n",
    "#adicionar uma coluna com valores 'X' para quando a tip for de dupla chance\n",
    "#junta as colunas para criar os resultados do tipo: 1, 2, 1X, 12, 2X\n",
    "pred['dupla_chance'] = pred['tip1'].apply(lambda x: 'X' if 'draw' in x else np.nan)\n",
    "pred['prediction'] = pred['cod'].astype(str) + pred['dupla_chance']\n",
    "pred['prediction'] = pred['prediction'].fillna(pred['cod'])\n",
    "\n",
    "pred = pred.merge(lg_matches[['fixture.id','winner','score.fulltime.home','score.fulltime.away']])\n",
    "pred['ttgols'] = pred['score.fulltime.home'] + pred['score.fulltime.away']\n",
    "\n",
    "#realiza um tratamento nas variáveis que serão comparadas\n",
    "pred['cod'] = pred['cod'].astype(str)\n",
    "pred['dupla_chance'] = pred['dupla_chance'].fillna('-') \n",
    "\n",
    "#cria a coluna para validar se as previsões foram corretas\n",
    "pred['winner_correct_prediction'] = 'NO'\n",
    "\n",
    "def check_prediction(row):\n",
    "    if row['winner'] == row['cod'] or row['winner'] == row['dupla_chance']:\n",
    "        return 'YES'\n",
    "    else:\n",
    "        return 'NO'\n",
    "pred['winner_correct_prediction'] = pred.apply(check_prediction, axis=1)\n",
    "\n",
    "#analise se as apostas do tipo 'Combo' também foram corretas. Para isso, divide as tips do tipo over/under em colunas separadas\n",
    "try:\n",
    "    pred[['a','b','c']] = pred['tip2'].str.split(' ', expand = True)\n",
    "except Exception:\n",
    "    pred[['b','c']] = pred['tip2'].str.split(' ', expand = True)\n",
    "\n",
    "    #separa as colunas pelo + ou -\n",
    "pred[['over_under','goals']] = pred['b'].str.extract('([+-]?)(\\d+\\.?\\d*)')\n",
    "\n",
    "    #substitui + por > e - por <\n",
    "pred['over_under'] = pred['over_under'].str.replace('-','<').replace('+','>')\n",
    "\n",
    "    #transforma em float\n",
    "pred['goals'] = pred['goals'].astype(float)\n",
    "    \n",
    "    #remove colunas desnecessárias\n",
    "try:\n",
    "    pred = pred.drop(columns = ['a','b','c'])\n",
    "except Exception:\n",
    "    pred = pred.drop(columns = ['b','c'])\n",
    "\n",
    "    #quando gols totais > over ou gols totais < under, coloca True, se não False, e np.nan para onde não há infos\n",
    "pred['overunder_correct_prediction'] = pred.apply(lambda x: x['ttgols'] < x['goals'] if x['over_under'] == '<' else (x['ttgols'] > x['goals'] if x['over_under'] == '>' else '-'), axis=1)\n",
    "\n",
    "    #tranforma True em YES e False em NO\n",
    "pred['overunder_correct_prediction'] = pred['overunder_correct_prediction'].astype(str).str.replace('True','YES').str.replace('False','NO')\n",
    "\n",
    "#remove colunas desnecessárias e reordena\n",
    "pred = pred.filter(['fixture_id', 'predictions.winner.comment','predictions.winner.name',\n",
    "       'predictions.advice', 'tip_type', 'prediction','tip2','winner','winner_correct_prediction','ttgols','overunder_correct_prediction'])\n",
    "\n",
    "pred['total_correct_prediction'] = pred.apply(lambda x: 'YES' if x['winner_correct_prediction'] == 'YES' and x['overunder_correct_prediction'] == 'YES' else ('-' if x['overunder_correct_prediction'] == '-' else 'NO'), axis=1)"
   ]
  },
  {
   "cell_type": "code",
   "execution_count": 46,
   "metadata": {},
   "outputs": [
    {
     "data": {
      "text/plain": [
       "overunder_correct_prediction\n",
       "NO     18.867925\n",
       "YES    81.132075\n",
       "dtype: float64"
      ]
     },
     "execution_count": 46,
     "metadata": {},
     "output_type": "execute_result"
    }
   ],
   "source": [
    "(pred[pred['overunder_correct_prediction']!='-'].groupby('overunder_correct_prediction').size() / pred[pred['overunder_correct_prediction']!='-'].groupby('overunder_correct_prediction').size().sum())*100\n",
    "#(pred[pred['overunder_correct_prediction']!='-'].count())*100"
   ]
  },
  {
   "cell_type": "code",
   "execution_count": 33,
   "metadata": {},
   "outputs": [
    {
     "data": {
      "text/plain": [
       "<function matplotlib.pyplot.show(close=None, block=None)>"
      ]
     },
     "execution_count": 33,
     "metadata": {},
     "output_type": "execute_result"
    },
    {
     "data": {
      "image/png": "[encoded data removed]",
      "text/plain": [
       "<Figure size 432x288 with 1 Axes>"
      ]
     },
     "metadata": {},
     "output_type": "display_data"
    }
   ],
   "source": [
    "viz_pred(pred)"
   ]
  },
  {
   "cell_type": "code",
   "execution_count": 47,
   "metadata": {},
   "outputs": [
    {
     "name": "stdout",
     "output_type": "stream",
     "text": [
      "tip_type\n",
      "Combo Double chance     32.456140\n",
      "Combo Winner             2.412281\n",
      "Double chance           58.991228\n",
      "Winner                   6.140351\n",
      "dtype: float64 \n",
      "\n",
      "prediction\n",
      "1      5.263158\n",
      "2      3.289474\n",
      "1X    49.780702\n",
      "2X    41.666667\n",
      "dtype: float64 \n",
      "\n",
      "winner\n",
      "1    44.956140\n",
      "2    24.561404\n",
      "X    30.482456\n",
      "dtype: float64 \n",
      "\n",
      "winner_correct_prediction\n",
      "NO     28.289474\n",
      "YES    71.710526\n",
      "dtype: float64 \n",
      "\n",
      "overunder_correct_prediction\n",
      "NO     18.867925\n",
      "YES    81.132075\n",
      "dtype: float64\n",
      "total_correct_prediction\n",
      "NO     42.138365\n",
      "YES    57.861635\n",
      "dtype: float64\n"
     ]
    }
   ],
   "source": [
    "#validacao dos resultados\n",
    "print(pred.groupby('tip_type').size()/len(pred)*100, '\\n')\n",
    "print(pred.groupby('prediction').size()/len(pred)*100, '\\n')\n",
    "print(pred.groupby('winner').size()/len(pred)*100, '\\n')\n",
    "print(pred.groupby('winner_correct_prediction').size()/len(pred)*100, '\\n')\n",
    "print((pred[pred['overunder_correct_prediction']!='-'].groupby('overunder_correct_prediction').size() / pred[pred['overunder_correct_prediction']!='-'].groupby('overunder_correct_prediction').size().sum())*100)\n",
    "print(pred[pred['total_correct_prediction']!='-'].groupby('total_correct_prediction').size()/len(pred[pred['total_correct_prediction']!='-'])*100)"
   ]
  },
  {
   "cell_type": "code",
   "execution_count": null,
   "metadata": {},
   "outputs": [],
   "source": []
  }
 ],
 "metadata": {
  "kernelspec": {
   "display_name": "Python 3",
   "language": "python",
   "name": "python3"
  },
  "language_info": {
   "codemirror_mode": {
    "name": "ipython",
    "version": 3
   },
   "file_extension": ".py",
   "mimetype": "text/x-python",
   "name": "python",
   "nbconvert_exporter": "python",
   "pygments_lexer": "ipython3",
   "version": "3.9.12"
  },
  "orig_nbformat": 4
 },
 "nbformat": 4,
 "nbformat_minor": 2
}
