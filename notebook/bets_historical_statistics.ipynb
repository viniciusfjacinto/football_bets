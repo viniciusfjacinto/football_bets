{
 "cells": [
  {
   "cell_type": "markdown",
   "metadata": {},
   "source": []
  },
  {
   "cell_type": "code",
   "execution_count": 2,
   "metadata": {},
   "outputs": [],
   "source": [
    "#importando módulos\n",
    "import functions\n",
    "from functions import *"
   ]
  },
  {
   "cell_type": "code",
   "execution_count": null,
   "metadata": {},
   "outputs": [],
   "source": []
  },
  {
   "cell_type": "markdown",
   "metadata": {},
   "source": []
  },
  {
   "cell_type": "code",
   "execution_count": 9,
   "metadata": {},
   "outputs": [
    {
     "name": "stdout",
     "output_type": "stream",
     "text": [
      "[(0, 'La Liga'), (1, 'Super Cup'), (2, 'Segunda División'), (3, 'Primera División Femenina'), (4, 'Copa del Rey'), (5, 'Primera División RFEF - Group 1'), (6, 'Primera División RFEF - Group 2'), (7, 'Primera División RFEF - Group 3'), (8, 'Primera División RFEF - Group 4'), (9, 'Tercera División RFEF - Group 1'), (10, 'Tercera División RFEF - Group 2'), (11, 'Tercera División RFEF - Group 3'), (12, 'Tercera División RFEF - Group 4'), (13, 'Tercera División RFEF - Group 5'), (14, 'Tercera División RFEF - Group 6'), (15, 'Tercera División RFEF - Group 7'), (16, 'Tercera División RFEF - Group 8'), (17, 'Tercera División RFEF - Group 9'), (18, 'Tercera División RFEF - Group 10'), (19, 'Tercera División RFEF - Group 11'), (20, 'Tercera División RFEF - Group 12'), (21, 'Tercera División RFEF - Group 13'), (22, 'Tercera División RFEF - Group 14'), (23, 'Tercera División RFEF - Group 15'), (24, 'Tercera División RFEF - Group 16'), (25, 'Tercera División RFEF - Group 17'), (26, 'Tercera División RFEF - Group 18'), (27, 'Primera División RFEF - Group 5'), (28, 'Copa Federacion'), (29, 'Segunda División RFEF - Group 1'), (30, 'Segunda División RFEF - Group 2'), (31, 'Segunda División RFEF - Group 3'), (32, 'Segunda División RFEF - Group 4'), (33, 'Segunda División RFEF - Group 5'), (34, 'Tercera División RFEF - Promotion - Play-offs')]\n"
     ]
    }
   ],
   "source": [
    "#cria um dataframe com todas as ligas disponiveis\n",
    "lg = 'https://v3.football.api-sports.io/leagues'\n",
    "lg = requests.request(\"GET\", lg, headers=headers, data=payload)\n",
    "lg = lg.json()\n",
    "lg = json_normalize(lg['response'])\n",
    "lg = lg[['league.id','league.name','league.type','country.name']]\n",
    "\n",
    "#pesquisar país\n",
    "input_country_name = str(input())\n",
    "country = input_country_name\n"
   ]
  },
  {
   "cell_type": "code",
   "execution_count": null,
   "metadata": {},
   "outputs": [],
   "source": [
    "#pesquisar league\n",
    "print(list(enumerate(lg[lg['country.name']==country]['league.name'].unique())))\n",
    "input_league_number = int(input())"
   ]
  },
  {
   "cell_type": "code",
   "execution_count": 4,
   "metadata": {},
   "outputs": [],
   "source": [
    "#seleciona a league e o range desejado\n",
    "league = 140\n",
    "season = range(2021,2023,1)"
   ]
  },
  {
   "cell_type": "code",
   "execution_count": null,
   "metadata": {},
   "outputs": [],
   "source": []
  }
 ],
 "metadata": {
  "kernelspec": {
   "display_name": "Python 3",
   "language": "python",
   "name": "python3"
  },
  "language_info": {
   "codemirror_mode": {
    "name": "ipython",
    "version": 3
   },
   "file_extension": ".py",
   "mimetype": "text/x-python",
   "name": "python",
   "nbconvert_exporter": "python",
   "pygments_lexer": "ipython3",
   "version": "3.9.12"
  },
  "orig_nbformat": 4
 },
 "nbformat": 4,
 "nbformat_minor": 2
}
